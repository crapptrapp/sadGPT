{
  "cells": [
    {
      "cell_type": "markdown",
      "metadata": {
        "colab_type": "text",
        "id": "view-in-github"
      },
      "source": [
        "<a href=\"https://colab.research.google.com/github/crapptrapp/sadGPT/blob/main/sadGPT.ipynb\" target=\"_parent\"><img src=\"https://colab.research.google.com/assets/colab-badge.svg\" alt=\"Open In Colab\"/></a>"
      ]
    },
    {
      "cell_type": "markdown",
      "metadata": {
        "id": 3.0293430767166755e+38
      },
      "source": [
        "# Gradio Demo: text_generation\n",
        "### This text generation demo takes in input text and returns generated text. It uses the Transformers library to set up the model and has two examples.\n",
        "        "
      ]
    },
    {
      "cell_type": "code",
      "execution_count": 1,
      "metadata": {
        "colab": {
          "base_uri": "https://localhost:8080/"
        },
        "id": 2.7299665331067346e+38,
        "outputId": "40f65a56-9fc1-47f3-aa72-72b4e9aff507"
      },
      "outputs": [],
      "source": [
        "!pip install -q gradio git+https://github.com/huggingface/transformers gradio torch"
      ]
    },
    {
      "cell_type": "code",
      "execution_count": 10,
      "metadata": {
        "id": 2.8891853944186117e+38
      },
      "outputs": [],
      "source": [
        "from transformers import pipeline\n",
        "\n",
        "generator = pipeline('text-generation', model='gpt2')\n",
        "\n",
        "def generate(text):\n",
        "    result = generator(text, max_length=300, num_return_sequences=1)\n",
        "    #result = generator(text, max_length=30, num_return_sequences=1)\n",
        "    return result[0][\"generated_text\"]\n",
        "\n",
        "examples = [\n",
        "    [\"The Moon's orbit around Earth has\"],\n",
        "    [\"The smooth Borealis basin in the Northern Hemisphere covers 40%\"],\n",
        "]\n",
        "\n"
      ]
    },
    {
      "cell_type": "code",
      "execution_count": 6,
      "id": "rqGA69EBfrnF",
      "metadata": {
        "colab": {
          "base_uri": "https://localhost:8080/",
          "height": 53
        },
        "id": "rqGA69EBfrnF",
        "outputId": "619892e3-56e1-473d-8196-dc7a1c188f45"
      },
      "outputs": [
        {
          "name": "stderr",
          "output_type": "stream",
          "text": [
            "Setting `pad_token_id` to `eos_token_id`:50256 for open-end generation.\n"
          ]
        },
        {
          "data": {
            "application/vnd.google.colaboratory.intrinsic+json": {
              "type": "string"
            },
            "text/plain": [
              "'Empowered by life energy, imagination shall manifest as Reality. (2) The essence of life shall be like an ocean rising up and passing through'"
            ]
          },
          "execution_count": 6,
          "metadata": {},
          "output_type": "execute_result"
        }
      ],
      "source": [
        "generate(\"Empowered by life energy, imagination shall manifest as Reality.\")"
      ]
    },
    {
      "cell_type": "code",
      "execution_count": 11,
      "id": "e1ptX_oUgZ8n",
      "metadata": {
        "colab": {
          "base_uri": "https://localhost:8080/",
          "height": 53
        },
        "id": "e1ptX_oUgZ8n",
        "outputId": "37c2c741-1086-432f-e2ec-d6b33b4f04b1"
      },
      "outputs": [
        {
          "name": "stderr",
          "output_type": "stream",
          "text": [
            "Setting `pad_token_id` to `eos_token_id`:50256 for open-end generation.\n"
          ]
        },
        {
          "data": {
            "application/vnd.google.colaboratory.intrinsic+json": {
              "type": "string"
            },
            "text/plain": [
              "'If we want humanity to enjoy the fruits of science and technology rather than use them to destroy ourselves and the entire planet, the most important thing right now is to raise Human Consciousness.\\n\\nAdvertisements'"
            ]
          },
          "execution_count": 11,
          "metadata": {},
          "output_type": "execute_result"
        }
      ],
      "source": [
        "generate(\"If we want humanity to enjoy the fruits of science and technology rather than use them to destroy ourselves and the entire planet, the most important thing right now is to raise Human Consciousness.\")"
      ]
    },
    {
      "cell_type": "code",
      "execution_count": null,
      "id": "vA9p2dyxfb3-",
      "metadata": {
        "id": "vA9p2dyxfb3-"
      },
      "outputs": [],
      "source": [
        "import gradio as gr\n",
        "\n",
        "demo = gr.Interface(\n",
        "    fn=generate,\n",
        "    inputs=gr.inputs.Textbox(lines=5, label=\"Input Text\"),\n",
        "    outputs=gr.outputs.Textbox(label=\"Generated Text\"),\n",
        "    examples=examples\n",
        ")\n",
        "\n",
        "demo.launch()"
      ]
    },
    {
      "cell_type": "code",
      "execution_count": null,
      "id": "17Ji1JaAh6DM",
      "metadata": {
        "id": "17Ji1JaAh6DM"
      },
      "outputs": [],
      "source": []
    }
  ],
  "metadata": {
    "colab": {
      "include_colab_link": true,
      "provenance": []
    },
    "gpuClass": "standard",
    "kernelspec": {
      "display_name": "Python 3",
      "language": "python",
      "name": "python3"
    },
    "language_info": {
      "codemirror_mode": {
        "name": "ipython",
        "version": 3
      },
      "file_extension": ".py",
      "mimetype": "text/x-python",
      "name": "python",
      "nbconvert_exporter": "python",
      "pygments_lexer": "ipython3",
      "version": "3.10.4"
    },
    "vscode": {
      "interpreter": {
        "hash": "3ad933181bd8a04b432d3370b9dc3b0662ad032c4dfaa4e4f1596c548f763858"
      }
    }
  },
  "nbformat": 4,
  "nbformat_minor": 5
}
